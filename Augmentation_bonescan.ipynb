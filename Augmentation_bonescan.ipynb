{
 "cells": [
  {
   "cell_type": "markdown",
   "id": "eea84a7b",
   "metadata": {},
   "source": [
    "### Augmentation을 위한 Transform 코드"
   ]
  },
  {
   "cell_type": "code",
   "execution_count": null,
   "id": "833dc83d",
   "metadata": {},
   "outputs": [],
   "source": [
    "data_dir = ‘Cat_Dog_data’\n",
    "#Applying Transformation\n",
    "train_transforms = transforms.Compose([\n",
    "                                transforms.RandomRotation(30),\n",
    "                                transforms.RandomResizedCrop(224),\n",
    "                                transforms.RandomHorizontalFlip(),\n",
    "                                transforms.ToTensor()])\n",
    "test_transforms = transforms.Compose([transforms.Resize(255),\n",
    "                                      transforms.CenterCrop(224),\n",
    "                                      transforms.ToTensor()])\n",
    "train_data = datasets.ImageFolder(data_dir + ‘/train’,  \n",
    "                                    transform=train_transforms)                                       \n",
    "test_data = datasets.ImageFolder(data_dir + ‘/test’, \n",
    "                                    transform=test_transforms)\n",
    "\n",
    "#Data Loading\n",
    "trainloader = torch.utils.data.DataLoader(train_data,\n",
    "                                                   batch_size=32)\n",
    "testloader = torch.utils.data.DataLoader(test_data, batch_size=32)\n",
    "\n",
    "\n",
    "images, labels = next(iter(dataloader))\n",
    "helper.imshow(images[0], normalize=False)"
   ]
  },
  {
   "cell_type": "code",
   "execution_count": null,
   "id": "cf342460",
   "metadata": {},
   "outputs": [],
   "source": []
  },
  {
   "cell_type": "code",
   "execution_count": null,
   "id": "500aab72",
   "metadata": {},
   "outputs": [],
   "source": []
  }
 ],
 "metadata": {
  "kernelspec": {
   "display_name": "Python 3 (ipykernel)",
   "language": "python",
   "name": "python3"
  },
  "language_info": {
   "codemirror_mode": {
    "name": "ipython",
    "version": 3
   },
   "file_extension": ".py",
   "mimetype": "text/x-python",
   "name": "python",
   "nbconvert_exporter": "python",
   "pygments_lexer": "ipython3",
   "version": "3.9.12"
  }
 },
 "nbformat": 4,
 "nbformat_minor": 5
}
