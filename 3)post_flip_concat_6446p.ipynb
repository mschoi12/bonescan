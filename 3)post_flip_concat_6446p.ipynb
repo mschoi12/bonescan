{
 "cells": [
  {
   "cell_type": "code",
   "execution_count": 11,
   "id": "232bad2d",
   "metadata": {},
   "outputs": [],
   "source": [
    "# importing PIL Module\n",
    "from PIL import Image\n",
    "\n",
    "import numpy as np\n",
    "from pathlib import Path\n",
    "import cv2\n",
    "import os\n",
    "import glob"
   ]
  },
  {
   "cell_type": "markdown",
   "id": "82e065c2",
   "metadata": {},
   "source": [
    "* Path"
   ]
  },
  {
   "cell_type": "code",
   "execution_count": 47,
   "id": "5f827922",
   "metadata": {},
   "outputs": [],
   "source": [
    "path_dir = 'C:/Users/starlabs/Desktop/BoneScan/Bone_Scan_Data/convert_ant_post/POST/*'\n",
    "path_flip = 'C:/data/Post_flip/'\n",
    "path_sample = 'C:/data/bonescan_post_concat.png'"
   ]
  },
  {
   "cell_type": "code",
   "execution_count": null,
   "id": "f532e2ee",
   "metadata": {},
   "outputs": [],
   "source": []
  },
  {
   "cell_type": "markdown",
   "id": "0e9186ff",
   "metadata": {},
   "source": [
    "* Flip Images of 6446p - Pillow"
   ]
  },
  {
   "cell_type": "code",
   "execution_count": 42,
   "id": "6a0d90be",
   "metadata": {},
   "outputs": [],
   "source": [
    "if not(os.path.isdir(path_out)): \n",
    "    os.makedirs(os.path.join(path_out))"
   ]
  },
  {
   "cell_type": "code",
   "execution_count": 38,
   "id": "39b8a086",
   "metadata": {},
   "outputs": [],
   "source": [
    "name1 = []\n",
    "for i in glob.glob(path_dir):\n",
    "    name1.append(os.path.basename(i))"
   ]
  },
  {
   "cell_type": "code",
   "execution_count": 44,
   "id": "4fee522f",
   "metadata": {},
   "outputs": [],
   "source": [
    "for i in glob.glob(path_dir):\n",
    "    # open the original image\n",
    "    img = Image.open(i)\n",
    "    # Flip the original image horizontally\n",
    "    fname = os.path.basename(i)\n",
    "    flip_img = img.transpose(Image.FLIP_LEFT_RIGHT)\n",
    "    flip_img.save((os.path.join(path_flip, fname)))"
   ]
  },
  {
   "cell_type": "code",
   "execution_count": null,
   "id": "9f5ae9ae",
   "metadata": {},
   "outputs": [],
   "source": [
    "# open the original image\n",
    "img = Image.open(path)\n",
    "\n",
    "# Flip the original image horizontally\n",
    "flip_img = img.transpose(Image.FLIP_LEFT_RIGHT)\n",
    "flip_img.save((os.path.join(path_out, i, '.png')))"
   ]
  },
  {
   "cell_type": "code",
   "execution_count": 68,
   "id": "6014316b",
   "metadata": {},
   "outputs": [
    {
     "ename": "ValueError",
     "evalue": "shape mismatch: value array of shape (1024,256,2) could not be broadcast to indexing result of shape (1024,256,1)",
     "output_type": "error",
     "traceback": [
      "\u001b[1;31m---------------------------------------------------------------------------\u001b[0m",
      "\u001b[1;31mValueError\u001b[0m                                Traceback (most recent call last)",
      "Input \u001b[1;32mIn [68]\u001b[0m, in \u001b[0;36m<cell line: 1>\u001b[1;34m()\u001b[0m\n\u001b[1;32m----> 1\u001b[0m img_arr[:,:,[\u001b[38;5;241m0\u001b[39m]] \u001b[38;5;241m=\u001b[39m np\u001b[38;5;241m.\u001b[39marray(img1)\n",
      "\u001b[1;31mValueError\u001b[0m: shape mismatch: value array of shape (1024,256,2) could not be broadcast to indexing result of shape (1024,256,1)"
     ]
    }
   ],
   "source": [
    "img_arr[:,:,0] = np.array(img1)"
   ]
  },
  {
   "cell_type": "code",
   "execution_count": 58,
   "id": "f1912a11",
   "metadata": {},
   "outputs": [
    {
     "data": {
      "text/plain": [
       "(1024, 256, 2)"
      ]
     },
     "execution_count": 58,
     "metadata": {},
     "output_type": "execute_result"
    }
   ],
   "source": [
    "img_arr.shape"
   ]
  },
  {
   "cell_type": "code",
   "execution_count": 53,
   "id": "2ad9390a",
   "metadata": {},
   "outputs": [],
   "source": [
    "img1 = Image.open(path_sample)"
   ]
  },
  {
   "cell_type": "code",
   "execution_count": 63,
   "id": "0a778d5f",
   "metadata": {},
   "outputs": [
    {
     "data": {
      "text/plain": [
       "<matplotlib.image.AxesImage at 0x281d56620d0>"
      ]
     },
     "execution_count": 63,
     "metadata": {},
     "output_type": "execute_result"
    },
    {
     "data": {
      "image/png": "[encoded data removed]",
      "text/plain": [
       "<Figure size 432x288 with 1 Axes>"
      ]
     },
     "metadata": {
      "needs_background": "light"
     },
     "output_type": "display_data"
    }
   ],
   "source": [
    "import matplotlib.pyplot as plt\n",
    "plt.imshow(img1)"
   ]
  },
  {
   "cell_type": "markdown",
   "id": "128e204f",
   "metadata": {},
   "source": [
    "* ANT, POST 경로설정"
   ]
  },
  {
   "cell_type": "code",
   "execution_count": 103,
   "id": "6cdd1022",
   "metadata": {},
   "outputs": [],
   "source": [
    "#ANT파일과 POST파일을 불러옵니다.\n",
    "data_dir = 'C:/Users/starlabs/Desktop/BoneScan/Bone_Scan_Data/convert_ant_post/'\n",
    "#ant_dir = glob.glob(os.path.join(data_dir, 'ANT/*.*'))\n",
    "ant_dir = glob.glob(data_dir + 'ANT/*')\n",
    "#post_dir = glob.glob(data_dir + '/POST/*.*')"
   ]
  },
  {
   "cell_type": "code",
   "execution_count": 108,
   "id": "a6144e20",
   "metadata": {},
   "outputs": [
    {
     "data": {
      "text/plain": [
       "6446"
      ]
     },
     "execution_count": 108,
     "metadata": {},
     "output_type": "execute_result"
    }
   ],
   "source": [
    "len(ant_dir)"
   ]
  },
  {
   "cell_type": "markdown",
   "id": "a0de74b9",
   "metadata": {},
   "source": [
    "### post & flip Image open 후 np.array변환"
   ]
  },
  {
   "cell_type": "code",
   "execution_count": 107,
   "id": "521d3262",
   "metadata": {},
   "outputs": [],
   "source": [
    "#ANT파일을 기준으로 이미지를 읽습니다.\n",
    "#만약 파일 변환에 문제가 있어 ANT파일과 POST파일의 목록이 다를경우 오류를 방지합니다.\n",
    "for i in ant_dir:\n",
    "    #ANT이미지를 불러옵니다.\n",
    "    #ant_img = cv2.imread(i)\n",
    "    ant_img = Image.open(i.replace('\\\\','/'))\n",
    "    #ANT이미지에서 POST로 이름을 바꿔 POST도 불러옵니다.\n",
    "    #post_img = cv2.imread(i.replace('ANT','Post_flip'))\n",
    "    post_img = i.replace('ANT\\\\','Post_flip/')\n",
    "    post_img = Image.open(post_img.replace('_ANT','_POST'))\n",
    "    \n",
    "    #두 이미지 np.array 변환\n",
    "    ant_img = np.array(ant_img, dtype='uint8')\n",
    "    post_img = np.array(post_img, dtype='uint8')\n",
    "    \n",
    "    #두 이미지를 합칩니다.\n",
    "    #done_img = cv2.hconcat([ant_img,post_img])\n",
    "    img_concat = np.dstack([ant_img,post_img])\n",
    "    \n",
    "    #합친 이미지를 저장합니다.\n",
    "    #cv2.imwrite(path + done_folder + '/' + os.path.basename(i),done_img)\n",
    "    img = Image.fromarray(img_concat)\n",
    "    img.save(data_dir + '/Concat/' + os.path.basename(i))\n",
    "    "
   ]
  },
  {
   "cell_type": "markdown",
   "id": "a3de488b",
   "metadata": {},
   "source": [
    "(참고) OPEN > CONCAT > SAVE"
   ]
  },
  {
   "cell_type": "code",
   "execution_count": null,
   "id": "9864751e",
   "metadata": {},
   "outputs": [],
   "source": [
    "# open the image\n",
    "img_post = Image.open(os.path.join(path_dir,'bonescan_post_sample.png'))\n",
    "img_flip = Image.open(os.path.join(path_dir,'bonescan_post_flipped.png'))\n",
    "img_post = np.array(img, dtype='uint8')\n",
    "img_flip = np.array(img, dtype='uint8')\n",
    "\n",
    "print(img_post.shape)\n",
    "print(img_flip.shape)\n",
    "\n",
    "# concat하기 depth축으로\n",
    "img_concat = np.dstack([img_post,img_flip])\n",
    "# img_concat = np.concatenate((img_post,img_flip), axis=2)\n",
    "\n",
    "img_concat.shape\n",
    "\n",
    "# Image save하기\n",
    "img = Image.fromarray(img_concat)\n",
    "img.save(os.path.join(path_dir,'bonescan_post_concat.png'))\n",
    "img.show()"
   ]
  },
  {
   "cell_type": "markdown",
   "id": "4ca3b00e",
   "metadata": {},
   "source": []
  },
  {
   "cell_type": "markdown",
   "id": "d4c60cf7",
   "metadata": {},
   "source": [
    "* (참고) RGB 채널 분리, 병합"
   ]
  },
  {
   "cell_type": "markdown",
   "id": "8fbc8f6e",
   "metadata": {},
   "source": [
    "* cv2.merge  \n",
    "\n",
    "채널 병합 함수(cv2.merge)로 분리된 채널을 병합해 하나의 이미지로 합칠 수 있습니다.\n",
    "dst = cv2.merge(mv)로 단일 채널 이미지 배열(mv)를 병합해 출력 이미지(dst)를 생성합니다.\n",
    "채널을 변형한 뒤에 다시 합치거나 순서를 변경해 병합할 수 있습니다.\n",
    "순서가 변경될 경우, 원본 이미지와 다른 색상으로 표현될 수 있습니다."
   ]
  },
  {
   "cell_type": "code",
   "execution_count": null,
   "id": "43adf128",
   "metadata": {},
   "outputs": [],
   "source": [
    "image = cv2.imread(args[\"image\"])\n",
    "(B, G, R) = cv2.split(image)\n",
    "# show each channel individually\n",
    "cv2.imshow(\"Red\", R)\n",
    "cv2.imshow(\"Green\", G)\n",
    "cv2.imshow(\"Blue\", B)\n",
    "cv2.waitKey(0)"
   ]
  },
  {
   "cell_type": "code",
   "execution_count": null,
   "id": "10e5c3ea",
   "metadata": {},
   "outputs": [],
   "source": [
    "cv2.merge((r, g, b))"
   ]
  },
  {
   "cell_type": "code",
   "execution_count": null,
   "id": "79fa6125",
   "metadata": {},
   "outputs": [],
   "source": []
  },
  {
   "cell_type": "code",
   "execution_count": null,
   "id": "e26efe12",
   "metadata": {},
   "outputs": [],
   "source": []
  },
  {
   "cell_type": "code",
   "execution_count": null,
   "id": "a41d46cf",
   "metadata": {},
   "outputs": [],
   "source": []
  },
  {
   "cell_type": "code",
   "execution_count": null,
   "id": "41fb1014",
   "metadata": {},
   "outputs": [],
   "source": []
  }
 ],
 "metadata": {
  "kernelspec": {
   "display_name": "Python 3 (ipykernel)",
   "language": "python",
   "name": "python3"
  },
  "language_info": {
   "codemirror_mode": {
    "name": "ipython",
    "version": 3
   },
   "file_extension": ".py",
   "mimetype": "text/x-python",
   "name": "python",
   "nbconvert_exporter": "python",
   "pygments_lexer": "ipython3",
   "version": "3.9.12"
  }
 },
 "nbformat": 4,
 "nbformat_minor": 5
}
