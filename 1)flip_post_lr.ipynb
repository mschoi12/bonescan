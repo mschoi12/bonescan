{
 "cells": [
  {
   "cell_type": "code",
   "execution_count": null,
   "id": "5a46b025",
   "metadata": {},
   "outputs": [],
   "source": [
    "import cv2\n",
    "import os"
   ]
  },
  {
   "cell_type": "code",
   "execution_count": null,
   "id": "b3aa831d",
   "metadata": {},
   "outputs": [],
   "source": [
    "path_dir = 'C:/data/'\n",
    "path = 'C:/data/bonescan_post_sample.png'"
   ]
  },
  {
   "cell_type": "markdown",
   "id": "34b8fd95",
   "metadata": {},
   "source": [
    "* Flip방법(1) - Pillow - 1"
   ]
  },
  {
   "cell_type": "code",
   "execution_count": null,
   "id": "fe4ca7c1",
   "metadata": {},
   "outputs": [],
   "source": [
    "# importing PIL Module\n",
    "from PIL import Image\n",
    " \n",
    "# open the original image\n",
    "original_img = Image.open(path)\n",
    "\n",
    "# Flip the original image horizontally\n",
    "horz_img = original_img.transpose(Image.FLIP_LEFT_RIGHT)\n",
    "horz_img.save('./flipped_horizontal.png')"
   ]
  },
  {
   "cell_type": "code",
   "execution_count": null,
   "id": "b6f537cd",
   "metadata": {},
   "outputs": [],
   "source": [
    "# close all our files object\n",
    "original_img.close()\n",
    "horz_img.close()"
   ]
  },
  {
   "cell_type": "code",
   "execution_count": null,
   "id": "16f19b4c",
   "metadata": {},
   "outputs": [],
   "source": [
    "#이미지 띄우기\n",
    "image1 = Image.open(path)\n",
    "image1.show()"
   ]
  },
  {
   "cell_type": "markdown",
   "id": "4200fbe1",
   "metadata": {},
   "source": [
    "* Flip방법(1) - Pillow -2"
   ]
  },
  {
   "cell_type": "code",
   "execution_count": null,
   "id": "ae68044f",
   "metadata": {
    "scrolled": true
   },
   "outputs": [],
   "source": [
    "from PIL import Image, ImageOps\n",
    "\n",
    "im = Image.open(path)\n",
    "im_mirror = ImageOps.mirror(im)\n",
    "im_mirror.save('c:/data/flipped_out.png'), quality=95)"
   ]
  },
  {
   "cell_type": "code",
   "execution_count": null,
   "id": "a6daa50c",
   "metadata": {},
   "outputs": [],
   "source": []
  },
  {
   "cell_type": "code",
   "execution_count": null,
   "id": "d2944203",
   "metadata": {},
   "outputs": [],
   "source": []
  },
  {
   "cell_type": "code",
   "execution_count": null,
   "id": "8da5dc54",
   "metadata": {},
   "outputs": [],
   "source": []
  },
  {
   "cell_type": "markdown",
   "id": "744d0b9f",
   "metadata": {},
   "source": [
    "* Flip방법(2) - opencv"
   ]
  },
  {
   "cell_type": "code",
   "execution_count": null,
   "id": "36e25bd3",
   "metadata": {},
   "outputs": [],
   "source": [
    "img = cv2.imread('‪C:/Users/starlabs/Desktop/bonescan_post_sample.png')\n",
    "print(type(img))\n",
    "# <class 'numpy.ndarray'>\n",
    "img.shape\n",
    "#cv2.imshow('image', img)"
   ]
  },
  {
   "cell_type": "code",
   "execution_count": null,
   "id": "0d6bc473",
   "metadata": {},
   "outputs": [],
   "source": [
    "print(img.shape)\n",
    "# (225, 400, 3)\n",
    "\n",
    "img_flip_ud = cv2.flip(img, 0)\n",
    "cv2.imwrite('data/dst/lena_cv_flip_ud.jpg', img_flip_ud)\n",
    "# True\n",
    "\n",
    "img_flip_lr = cv2.flip(img, 1)\n",
    "cv2.imwrite('data/dst/lena_cv_flip_lr.jpg', img_flip_lr)\n",
    "# True\n",
    "\n",
    "img_flip_ud_lr = cv2.flip(img, -1)\n",
    "cv2.imwrite('data/dst/lena_cv_flip_ud_lr.jpg', img_flip_ud_lr)\n",
    "# True"
   ]
  },
  {
   "cell_type": "markdown",
   "id": "8b32033a",
   "metadata": {},
   "source": [
    "* Flip방법(3) - opencv(np.zeros)"
   ]
  },
  {
   "cell_type": "code",
   "execution_count": null,
   "id": "0c7cad8f",
   "metadata": {},
   "outputs": [],
   "source": [
    "import cv2\n",
    "import numpy as np\n",
    "#Load image\n",
    "img = cv2.imread(path)\n",
    "height, width = img.shape[0], img.shape[1]\n",
    "#Flip\n",
    "output = np.zeros((height, width,3), dtype=np.uint8)\n",
    "\n",
    "for x in range(height):\n",
    "    for y in range(width):\n",
    "        xp = height - x - 1       #상하 반전\n",
    "        yp = width - y - 1        #좌우 반전\n",
    "        output[x,y] = img[xp, y] #상하 반전\n",
    "        # output[x, y] = img[x, yp] #좌우 반전\n",
    "\n",
    "cv2.imwrite('./flipped.png', output)"
   ]
  },
  {
   "cell_type": "code",
   "execution_count": null,
   "id": "ab30906a",
   "metadata": {},
   "outputs": [],
   "source": []
  },
  {
   "cell_type": "code",
   "execution_count": null,
   "id": "7613ce2c",
   "metadata": {},
   "outputs": [],
   "source": []
  },
  {
   "cell_type": "code",
   "execution_count": null,
   "id": "604bafbe",
   "metadata": {},
   "outputs": [],
   "source": []
  }
 ],
 "metadata": {
  "kernelspec": {
   "display_name": "Python 3 (ipykernel)",
   "language": "python",
   "name": "python3"
  },
  "language_info": {
   "codemirror_mode": {
    "name": "ipython",
    "version": 3
   },
   "file_extension": ".py",
   "mimetype": "text/x-python",
   "name": "python",
   "nbconvert_exporter": "python",
   "pygments_lexer": "ipython3",
   "version": "3.9.12"
  }
 },
 "nbformat": 4,
 "nbformat_minor": 5
}
