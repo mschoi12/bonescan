{
 "cells": [
  {
   "cell_type": "code",
   "execution_count": 9,
   "id": "5a46b025",
   "metadata": {},
   "outputs": [],
   "source": [
    "import cv2\n",
    "import os"
   ]
  },
  {
   "cell_type": "code",
   "execution_count": 36,
   "id": "00cba338",
   "metadata": {},
   "outputs": [
    {
     "name": "stdout",
     "output_type": "stream",
     "text": [
      "C:\\Users\\starlabs\n"
     ]
    }
   ],
   "source": [
    "print(os.path.abspath('./'))"
   ]
  },
  {
   "cell_type": "code",
   "execution_count": 56,
   "id": "b3aa831d",
   "metadata": {},
   "outputs": [],
   "source": [
    "path_dir = 'C:/data/'\n",
    "path = 'C:/data/bonescan_post_sample.png'"
   ]
  },
  {
   "cell_type": "markdown",
   "id": "744d0b9f",
   "metadata": {},
   "source": [
    "* Flip방법(1) - opencv"
   ]
  },
  {
   "cell_type": "code",
   "execution_count": 21,
   "id": "36e25bd3",
   "metadata": {
    "collapsed": true
   },
   "outputs": [
    {
     "name": "stdout",
     "output_type": "stream",
     "text": [
      "<class 'NoneType'>\n"
     ]
    },
    {
     "ename": "AttributeError",
     "evalue": "'NoneType' object has no attribute 'shape'",
     "output_type": "error",
     "traceback": [
      "\u001b[1;31m---------------------------------------------------------------------------\u001b[0m",
      "\u001b[1;31mAttributeError\u001b[0m                            Traceback (most recent call last)",
      "Input \u001b[1;32mIn [21]\u001b[0m, in \u001b[0;36m<cell line: 4>\u001b[1;34m()\u001b[0m\n\u001b[0;32m      2\u001b[0m \u001b[38;5;28mprint\u001b[39m(\u001b[38;5;28mtype\u001b[39m(img))\n\u001b[0;32m      3\u001b[0m \u001b[38;5;66;03m# <class 'numpy.ndarray'>\u001b[39;00m\n\u001b[1;32m----> 4\u001b[0m \u001b[43mimg\u001b[49m\u001b[38;5;241;43m.\u001b[39;49m\u001b[43mshape\u001b[49m\n",
      "\u001b[1;31mAttributeError\u001b[0m: 'NoneType' object has no attribute 'shape'"
     ]
    }
   ],
   "source": [
    "img = cv2.imread('‪C:/Users/starlabs/Desktop/bonescan_post_sample.png')\n",
    "print(type(img))\n",
    "# <class 'numpy.ndarray'>\n",
    "img.shape\n",
    "#cv2.imshow('image', img)"
   ]
  },
  {
   "cell_type": "code",
   "execution_count": 18,
   "id": "0d6bc473",
   "metadata": {
    "collapsed": true
   },
   "outputs": [
    {
     "ename": "AttributeError",
     "evalue": "'NoneType' object has no attribute 'shape'",
     "output_type": "error",
     "traceback": [
      "\u001b[1;31m---------------------------------------------------------------------------\u001b[0m",
      "\u001b[1;31mAttributeError\u001b[0m                            Traceback (most recent call last)",
      "Input \u001b[1;32mIn [18]\u001b[0m, in \u001b[0;36m<cell line: 1>\u001b[1;34m()\u001b[0m\n\u001b[1;32m----> 1\u001b[0m \u001b[38;5;28mprint\u001b[39m(\u001b[43mimg\u001b[49m\u001b[38;5;241;43m.\u001b[39;49m\u001b[43mshape\u001b[49m)\n\u001b[0;32m      2\u001b[0m \u001b[38;5;66;03m# (225, 400, 3)\u001b[39;00m\n\u001b[0;32m      4\u001b[0m img_flip_ud \u001b[38;5;241m=\u001b[39m cv2\u001b[38;5;241m.\u001b[39mflip(img, \u001b[38;5;241m0\u001b[39m)\n",
      "\u001b[1;31mAttributeError\u001b[0m: 'NoneType' object has no attribute 'shape'"
     ]
    }
   ],
   "source": [
    "print(img.shape)\n",
    "# (225, 400, 3)\n",
    "\n",
    "img_flip_ud = cv2.flip(img, 0)\n",
    "cv2.imwrite('data/dst/lena_cv_flip_ud.jpg', img_flip_ud)\n",
    "# True\n",
    "\n",
    "img_flip_lr = cv2.flip(img, 1)\n",
    "cv2.imwrite('data/dst/lena_cv_flip_lr.jpg', img_flip_lr)\n",
    "# True\n",
    "\n",
    "img_flip_ud_lr = cv2.flip(img, -1)\n",
    "cv2.imwrite('data/dst/lena_cv_flip_ud_lr.jpg', img_flip_ud_lr)\n",
    "# True"
   ]
  },
  {
   "cell_type": "markdown",
   "id": "8b32033a",
   "metadata": {},
   "source": [
    "* Flip방법(2) - np.zeros이용"
   ]
  },
  {
   "cell_type": "code",
   "execution_count": 23,
   "id": "0c7cad8f",
   "metadata": {
    "collapsed": true
   },
   "outputs": [
    {
     "ename": "AttributeError",
     "evalue": "'NoneType' object has no attribute 'shape'",
     "output_type": "error",
     "traceback": [
      "\u001b[1;31m---------------------------------------------------------------------------\u001b[0m",
      "\u001b[1;31mAttributeError\u001b[0m                            Traceback (most recent call last)",
      "Input \u001b[1;32mIn [23]\u001b[0m, in \u001b[0;36m<cell line: 5>\u001b[1;34m()\u001b[0m\n\u001b[0;32m      3\u001b[0m \u001b[38;5;66;03m#Load image\u001b[39;00m\n\u001b[0;32m      4\u001b[0m img \u001b[38;5;241m=\u001b[39m cv2\u001b[38;5;241m.\u001b[39mimread(path)\n\u001b[1;32m----> 5\u001b[0m height, width \u001b[38;5;241m=\u001b[39m \u001b[43mimg\u001b[49m\u001b[38;5;241;43m.\u001b[39;49m\u001b[43mshape\u001b[49m[\u001b[38;5;241m0\u001b[39m], img\u001b[38;5;241m.\u001b[39mshape[\u001b[38;5;241m1\u001b[39m]\n\u001b[0;32m      6\u001b[0m \u001b[38;5;66;03m#Flip\u001b[39;00m\n\u001b[0;32m      7\u001b[0m output \u001b[38;5;241m=\u001b[39m np\u001b[38;5;241m.\u001b[39mzeros((height, width,\u001b[38;5;241m3\u001b[39m), dtype\u001b[38;5;241m=\u001b[39mnp\u001b[38;5;241m.\u001b[39muint8)\n",
      "\u001b[1;31mAttributeError\u001b[0m: 'NoneType' object has no attribute 'shape'"
     ]
    }
   ],
   "source": [
    "import cv2\n",
    "import numpy as np\n",
    "#Load image\n",
    "img = cv2.imread(path)\n",
    "height, width = img.shape[0], img.shape[1]\n",
    "#Flip\n",
    "output = np.zeros((height, width,3), dtype=np.uint8)\n",
    "\n",
    "for x in range(height):\n",
    "    for y in range(width):\n",
    "        xp = height - x - 1       #상하 반전\n",
    "        yp = width - y - 1        #좌우 반전\n",
    "        output[x,y] = img[xp, y] #상하 반전\n",
    "        # output[x, y] = img[x, yp] #좌우 반전\n",
    "\n",
    "cv2.imwrite('./flipped.png', output)"
   ]
  },
  {
   "cell_type": "markdown",
   "id": "cf8194df",
   "metadata": {},
   "source": [
    "* Flip방법(3) - Pillow - 1"
   ]
  },
  {
   "cell_type": "code",
   "execution_count": 64,
   "id": "657ea23a",
   "metadata": {},
   "outputs": [],
   "source": [
    "# importing PIL Module\n",
    "from PIL import Image\n",
    " \n",
    "# open the original image\n",
    "original_img = Image.open(path)\n",
    "\n",
    "# Flip the original image horizontally\n",
    "horz_img = original_img.transpose(Image.FLIP_LEFT_RIGHT)\n",
    "horz_img.save('./flipped_horizontal.png')"
   ]
  },
  {
   "cell_type": "code",
   "execution_count": 57,
   "id": "5873a42d",
   "metadata": {
    "collapsed": true
   },
   "outputs": [
    {
     "ename": "SyntaxError",
     "evalue": "invalid syntax (1938057023.py, line 12)",
     "output_type": "error",
     "traceback": [
      "\u001b[1;36m  Input \u001b[1;32mIn [57]\u001b[1;36m\u001b[0m\n\u001b[1;33m    original_img.close()\u001b[0m\n\u001b[1;37m    ^\u001b[0m\n\u001b[1;31mSyntaxError\u001b[0m\u001b[1;31m:\u001b[0m invalid syntax\n"
     ]
    }
   ],
   "source": [
    "# close all our files object\n",
    "original_img.close()\n",
    "horz_img.close()"
   ]
  },
  {
   "cell_type": "code",
   "execution_count": 54,
   "id": "a9823967",
   "metadata": {},
   "outputs": [],
   "source": [
    "#이미지 띄우기\n",
    "image1 = Image.open(path)\n",
    "image1.show()"
   ]
  },
  {
   "cell_type": "markdown",
   "id": "bb0fd8ae",
   "metadata": {},
   "source": [
    "* Flip방법(3) - Pillow - 2"
   ]
  },
  {
   "cell_type": "code",
   "execution_count": 51,
   "id": "c1fa656f",
   "metadata": {},
   "outputs": [
    {
     "ename": "SyntaxError",
     "evalue": "cannot assign to function call (2973246067.py, line 5)",
     "output_type": "error",
     "traceback": [
      "\u001b[1;36m  Input \u001b[1;32mIn [51]\u001b[1;36m\u001b[0m\n\u001b[1;33m    im_mirror.save('c:/data/flipped_out.png'), quality=95)\u001b[0m\n\u001b[1;37m    ^\u001b[0m\n\u001b[1;31mSyntaxError\u001b[0m\u001b[1;31m:\u001b[0m cannot assign to function call\n"
     ]
    }
   ],
   "source": [
    "from PIL import Image, ImageOps\n",
    "\n",
    "im = Image.open(path)\n",
    "im_mirror = ImageOps.mirror(im)\n",
    "im_mirror.save('c:/data/flipped_out.png'), quality=95)"
   ]
  },
  {
   "cell_type": "code",
   "execution_count": null,
   "id": "ab30906a",
   "metadata": {},
   "outputs": [],
   "source": []
  },
  {
   "cell_type": "code",
   "execution_count": null,
   "id": "7613ce2c",
   "metadata": {},
   "outputs": [],
   "source": []
  },
  {
   "cell_type": "code",
   "execution_count": null,
   "id": "604bafbe",
   "metadata": {},
   "outputs": [],
   "source": []
  }
 ],
 "metadata": {
  "kernelspec": {
   "display_name": "Python 3 (ipykernel)",
   "language": "python",
   "name": "python3"
  },
  "language_info": {
   "codemirror_mode": {
    "name": "ipython",
    "version": 3
   },
   "file_extension": ".py",
   "mimetype": "text/x-python",
   "name": "python",
   "nbconvert_exporter": "python",
   "pygments_lexer": "ipython3",
   "version": "3.9.12"
  }
 },
 "nbformat": 4,
 "nbformat_minor": 5
}
