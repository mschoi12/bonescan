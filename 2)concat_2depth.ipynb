{
 "cells": [
  {
   "cell_type": "code",
   "execution_count": 7,
   "id": "945fcb98",
   "metadata": {},
   "outputs": [],
   "source": [
    "# importing PIL Module\n",
    "from PIL import Image\n",
    "\n",
    "import numpy as np\n",
    "import cv2\n",
    "import os"
   ]
  },
  {
   "cell_type": "code",
   "execution_count": 14,
   "id": "bf94624b",
   "metadata": {},
   "outputs": [],
   "source": [
    "path_dir = 'C:/data/'\n",
    "path = 'C:/data/bonescan_post_sample.png'"
   ]
  },
  {
   "cell_type": "code",
   "execution_count": 18,
   "id": "5dd09342",
   "metadata": {},
   "outputs": [],
   "source": [
    "img_post = Image.open(os.path.join(path_dir,'bonescan_post_sample.png'))"
   ]
  },
  {
   "cell_type": "markdown",
   "id": "8d6e846f",
   "metadata": {},
   "source": [
    "* post & flip Image open 후 np.array변환"
   ]
  },
  {
   "cell_type": "code",
   "execution_count": 20,
   "id": "3f71834f",
   "metadata": {},
   "outputs": [],
   "source": [
    "# open the image\n",
    "img_post = Image.open(os.path.join(path_dir,'bonescan_post_sample.png'))\n",
    "img_flip = Image.open(os.path.join(path_dir,'bonescan_post_flipped.png'))\n",
    "img_post = np.array(img, dtype='uint8')\n",
    "img_flip = np.array(img, dtype='uint8')\n",
    "\n",
    "print(img_post.shape)\n",
    "print(img_flip.shape)"
   ]
  },
  {
   "cell_type": "markdown",
   "id": "4c3e1c75",
   "metadata": {},
   "source": [
    "* depth축으로 concat"
   ]
  },
  {
   "cell_type": "code",
   "execution_count": 32,
   "id": "0f3f06fa",
   "metadata": {},
   "outputs": [
    {
     "data": {
      "text/plain": [
       "(1024, 256, 2)"
      ]
     },
     "execution_count": 32,
     "metadata": {},
     "output_type": "execute_result"
    }
   ],
   "source": [
    "img_concat = np.dstack([img_post,img_flip])\n",
    "# img_concat = np.concatenate((img_post,img_flip), axis=2)\n",
    "\n",
    "img_concat.shape"
   ]
  },
  {
   "cell_type": "markdown",
   "id": "b94bdf64",
   "metadata": {},
   "source": [
    "* Image save"
   ]
  },
  {
   "cell_type": "code",
   "execution_count": 43,
   "id": "203394ca",
   "metadata": {},
   "outputs": [],
   "source": [
    "img = Image.fromarray(img_concat)\n",
    "img.save(os.path.join(path_dir,'bonescan_post_concat.png'))\n",
    "img.show()"
   ]
  },
  {
   "cell_type": "code",
   "execution_count": 44,
   "id": "8a3d5f56",
   "metadata": {},
   "outputs": [
    {
     "data": {
      "text/plain": [
       "PIL.Image.Image"
      ]
     },
     "execution_count": 44,
     "metadata": {},
     "output_type": "execute_result"
    }
   ],
   "source": [
    "type(img)"
   ]
  },
  {
   "cell_type": "code",
   "execution_count": null,
   "id": "5d79cf0d",
   "metadata": {},
   "outputs": [],
   "source": []
  },
  {
   "cell_type": "code",
   "execution_count": null,
   "id": "ce1ff0d1",
   "metadata": {},
   "outputs": [],
   "source": []
  },
  {
   "cell_type": "code",
   "execution_count": null,
   "id": "f8afb68c",
   "metadata": {},
   "outputs": [],
   "source": []
  },
  {
   "cell_type": "code",
   "execution_count": null,
   "id": "bac23d25",
   "metadata": {},
   "outputs": [],
   "source": []
  }
 ],
 "metadata": {
  "kernelspec": {
   "display_name": "Python 3 (ipykernel)",
   "language": "python",
   "name": "python3"
  },
  "language_info": {
   "codemirror_mode": {
    "name": "ipython",
    "version": 3
   },
   "file_extension": ".py",
   "mimetype": "text/x-python",
   "name": "python",
   "nbconvert_exporter": "python",
   "pygments_lexer": "ipython3",
   "version": "3.9.12"
  }
 },
 "nbformat": 4,
 "nbformat_minor": 5
}
