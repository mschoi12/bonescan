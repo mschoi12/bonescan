{
 "cells": [
  {
   "cell_type": "markdown",
   "id": "e107ad1b",
   "metadata": {},
   "source": [
    "### PIL image <> array <> tensor 변환하기 : Totensor"
   ]
  },
  {
   "cell_type": "code",
   "execution_count": null,
   "id": "c400c250",
   "metadata": {},
   "outputs": [],
   "source": [
    "from torchvision.transforms import ToTensor, ToPILImage\n",
    "from PIL import Image\n",
    "import numpy as np\n",
    "\n",
    "\n",
    "img_RGB  = Image.open('memi.jpg').convert('RGB')\n",
    "img_RGB_array  = np.array(img_RGB)\n",
    "\n",
    "print(f'RGB  Image shape : {img_RGB_array.shape}')  # 428 x 428 x 3\n",
    "print(f'RGB  Value Scale : {img_RGB_array.min()}~{img_RGB_array.max()}') # 0~255\n",
    "\n",
    "\n",
    "# torchvision.transforms.ToTensor\n",
    "tf_toTensor = ToTensor() \n",
    "\n",
    "\n",
    "# PIL to Tensor\n",
    "img_RGB_tensor_from_PIL = tf_toTensor(img_RGB)\n",
    "\n",
    "print(img_RGB_tensor_from_PIL)\n",
    "print(img_RGB_tensor_from_PIL.size()) # 3 x 428 x 428\n",
    "print(img_RGB_tensor_from_PIL.min(), img_RGB_tensor_from_PIL.max()) # 0~1\n",
    "\n",
    "\n",
    "# Numpy array to Tensor\n",
    "img_RGB_tensor_from_ndarray = tf_toTensor(img_RGB_array)\n",
    "\n",
    "print(img_RGB_tensor_from_ndarray)\n",
    "print(img_RGB_tensor_from_ndarray.size()) # 3 x 428 x 428\n",
    "print(img_RGB_tensor_from_ndarray.min(), img_RGB_tensor_from_ndarray.max()) # 0~1\n",
    "\n",
    "\n",
    "# torchvision.transforms.ToPILImage\n",
    "tf_toPILImage = ToPILImage() \n",
    "\n",
    "img_PIL_from_Tensor = tf_toPILImage(img_RGB_tensor_from_PIL)\n",
    "\n",
    "print(np.array(img_PIL_from_Tensor)) # 0~255\n",
    "print(np.array(img_PIL_from_Tensor).shape) # 428 x 428 x 3\n",
    "\n",
    "\n",
    "# Check values between numpy array and tensor\n",
    "print(np.sum(~(img_RGB_array==np.array(img_PIL_from_Tensor)))) # 0 means all same"
   ]
  },
  {
   "cell_type": "code",
   "execution_count": null,
   "id": "29e2eb17",
   "metadata": {},
   "outputs": [],
   "source": []
  },
  {
   "cell_type": "code",
   "execution_count": null,
   "id": "7f588c8f",
   "metadata": {},
   "outputs": [],
   "source": []
  }
 ],
 "metadata": {
  "kernelspec": {
   "display_name": "Python 3 (ipykernel)",
   "language": "python",
   "name": "python3"
  },
  "language_info": {
   "codemirror_mode": {
    "name": "ipython",
    "version": 3
   },
   "file_extension": ".py",
   "mimetype": "text/x-python",
   "name": "python",
   "nbconvert_exporter": "python",
   "pygments_lexer": "ipython3",
   "version": "3.9.12"
  }
 },
 "nbformat": 4,
 "nbformat_minor": 5
}
